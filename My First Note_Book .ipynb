{
    "cells": [
        {
            "metadata": {},
            "cell_type": "markdown",
            "source": "Title:  mt Jupyter Notebook"
        },
        {
            "metadata": {},
            "cell_type": "code",
            "source": " 1 + 1",
            "execution_count": 2,
            "outputs": [
                {
                    "output_type": "execute_result",
                    "execution_count": 2,
                    "data": {
                        "text/plain": "2"
                    },
                    "metadata": {}
                }
            ]
        },
        {
            "metadata": {},
            "cell_type": "code",
            "source": "x = 'hello world'\nprint(x)",
            "execution_count": 4,
            "outputs": [
                {
                    "output_type": "stream",
                    "text": "hello world\n",
                    "name": "stdout"
                }
            ]
        },
        {
            "metadata": {},
            "cell_type": "code",
            "source": "\n![alt text](https://github.com/adam-p/markdown-here/raw/master/src/common/images/icon48.png \"Logo Title Text 1\")",
            "execution_count": 9,
            "outputs": [
                {
                    "output_type": "stream",
                    "text": "/usr/bin/sh: -c: line 0: syntax error near unexpected token `('\r\n/usr/bin/sh: -c: line 0: `[alt text](https://github.com/adam-p/markdown-here/raw/master/src/common/images/icon48.png \"Logo Title Text 1\")'\r\n",
                    "name": "stdout"
                }
            ]
        },
        {
            "metadata": {},
            "cell_type": "code",
            "source": "",
            "execution_count": null,
            "outputs": []
        }
    ],
    "metadata": {
        "kernelspec": {
            "name": "python3",
            "display_name": "Python 3.6",
            "language": "python"
        },
        "language_info": {
            "name": "python",
            "version": "3.6.8",
            "mimetype": "text/x-python",
            "codemirror_mode": {
                "name": "ipython",
                "version": 3
            },
            "pygments_lexer": "ipython3",
            "nbconvert_exporter": "python",
            "file_extension": ".py"
        }
    },
    "nbformat": 4,
    "nbformat_minor": 1
}