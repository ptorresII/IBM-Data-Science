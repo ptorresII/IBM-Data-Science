{
    "cells": [
        {
            "cell_type": "markdown",
            "metadata": {},
            "source": "#    My Jupyter Notebook on IBM Data Science Experience "
        },
        {
            "cell_type": "markdown",
            "metadata": {},
            "source": "**Phillip Torres** <br>\nData Scientist"
        },
        {
            "cell_type": "markdown",
            "metadata": {},
            "source": "*I am interested in data science because data is all around us hiding secrets and patterns that have the ability to change the world.*\n*I am interested in information silos in the medical field; possible holding the cure to cancer, and the tens of thousands of ancient clay tablets that have never been read because only a hand full of scholars can read them.* "
        },
        {
            "cell_type": "markdown",
            "metadata": {},
            "source": "### The code in cell [5] calculates 7 squared"
        },
        {
            "cell_type": "code",
            "execution_count": 5,
            "metadata": {},
            "outputs": [
                {
                    "data": {
                        "text/plain": "49"
                    },
                    "execution_count": 5,
                    "metadata": {},
                    "output_type": "execute_result"
                }
            ],
            "source": "7**2"
        },
        {
            "cell_type": "markdown",
            "metadata": {},
            "source": "___"
        },
        {
            "cell_type": "markdown",
            "metadata": {},
            "source": "+ 'First ordered list item'\n+ 'Second ordered list item'\n+ 'Third ordered list item'\n+ 'Forth ordered list item'\n+ 'Fifth ordered list item'\n\n[kaggle](https://www.kaggle.com \"Kaggles's Homepage\")\n\n![kaggle](https://www.kaggle.com/static/images/site-logo.png \"Kaggle Logo\")\n\n| Syntax | Description |\n| ----------- | ----------- |\n| Header | Title |\n| Paragraph | Text |\n\n> Blockquotes are used in email to emulate reply text.\n\n~~This is a strike thru example.~~\n\n**Bold Example**\n\n*Italicized example*\n\n# H1 Example\n## H2 Example\n### H3 Example"
        },
        {
            "cell_type": "code",
            "execution_count": null,
            "metadata": {},
            "outputs": [],
            "source": ""
        }
    ],
    "metadata": {
        "kernelspec": {
            "display_name": "Python 3.6",
            "language": "python",
            "name": "python3"
        },
        "language_info": {
            "codemirror_mode": {
                "name": "ipython",
                "version": 3
            },
            "file_extension": ".py",
            "mimetype": "text/x-python",
            "name": "python",
            "nbconvert_exporter": "python",
            "pygments_lexer": "ipython3",
            "version": "3.6.8"
        }
    },
    "nbformat": 4,
    "nbformat_minor": 1
}